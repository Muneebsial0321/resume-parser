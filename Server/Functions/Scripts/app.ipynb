{
 "cells": [
  {
   "cell_type": "code",
   "execution_count": 15,
   "metadata": {},
   "outputs": [],
   "source": [
    "import spacy\n",
    "\n",
    "# Load spaCy's NLP model\n",
    "nlp = spacy.load('en_core_web_md')\n",
    "\n",
    "# Example resume text\n",
    "resume_text = \"I have experience in Python, Machine Learning, Natural Language Processing, and React.\"\n",
    "\n",
    "# Extract tokens (skills) from resume\n",
    "doc = nlp(resume_text)\n",
    "extracted_skills = ['python', 'machine learning', 'nlp', 'react', 'tensorflow','wordpress','exel']\n",
    "\n",
    "# Predefined skills array\n",
    "required_skills = ['python', 'machine learning', 'nlp', 'react', 'tensorflow']\n",
    "\n"
   ]
  },
  {
   "cell_type": "code",
   "execution_count": 13,
   "metadata": {},
   "outputs": [
    {
     "name": "stdout",
     "output_type": "stream",
     "text": [
      "Cosine Similarity: 0.0\n",
      "Skills do not match sufficiently.\n"
     ]
    }
   ],
   "source": [
    "from sklearn.feature_extraction.text import CountVectorizer\n",
    "from sklearn.metrics.pairwise import cosine_similarity\n",
    "# extracted_skills = ['python', 'machine learning', 'nlp', 'react', 'tensorflow','wordpress','exel']\n",
    "\n",
    "# # Predefined skills array\n",
    "# required_skills = ['python', 'machine learning', 'nlp', 'react', 'tensorflow']\n",
    "\n",
    "# Convert skills into a single string for vectorization\n",
    "# extracted_skills_str = ' '.join(extracted_skills)\n",
    "# required_skills_str = ' '.join(required_skills)\n",
    "extracted_skills_str = 'bachelor degree in Computer Science '\n",
    "required_skills_str = ' BsCS '\n",
    "\n",
    "# Create a CountVectorizer instance\n",
    "vectorizer = CountVectorizer().fit_transform([extracted_skills_str, required_skills_str])\n",
    "\n",
    "# Compute cosine similarity\n",
    "cosine_sim = cosine_similarity(vectorizer[0], vectorizer[1])\n",
    "\n",
    "print(\"Cosine Similarity:\", cosine_sim[0][0])\n",
    "\n",
    "if cosine_sim[0][0] > 0.5:  # Adjust threshold as needed\n",
    "    print(\"Skills match well!\")\n",
    "else:\n",
    "    print(\"Skills do not match sufficiently.\")\n"
   ]
  },
  {
   "cell_type": "code",
   "execution_count": 26,
   "metadata": {},
   "outputs": [
    {
     "name": "stdout",
     "output_type": "stream",
     "text": [
      "Cosine Similarity (using spaCy word embeddings): 0.4779868004064924\n"
     ]
    }
   ],
   "source": [
    "extracted_skills = ['python', 'machine learning', 'nlp', 'react', 'tensorflow','wordpress','exel', 'machine learning', 'nlp', 'react', 'tensorflow','html']\n",
    "\n",
    "# Predefined skills array\n",
    "required_skills = ['python',]\n",
    "extracted_skills_str = ' '.join(extracted_skills)\n",
    "required_skills_str = ' '.join(required_skills)\n",
    "doc1 = nlp(extracted_skills_str)\n",
    "doc2 = nlp(required_skills_str)\n",
    "\n",
    "# Calculate similarity\n",
    "similarity_score = doc2.similarity(doc1)\n",
    "\n",
    "print(\"Cosine Similarity (using spaCy word embeddings):\", similarity_score)"
   ]
  },
  {
   "cell_type": "markdown",
   "metadata": {},
   "source": [
    "### Funcational below one"
   ]
  },
  {
   "cell_type": "code",
   "execution_count": 27,
   "metadata": {},
   "outputs": [
    {
     "name": "stdout",
     "output_type": "stream",
     "text": [
      "Matched Skills: {'python'}\n",
      "Match Percentage: 100.0\n",
      "Skills match well!\n"
     ]
    }
   ],
   "source": [
    "# Set of extracted skills\n",
    "extracted_skills_set = set(extracted_skills)\n",
    "# Set of required skills\n",
    "required_skills_set = set(required_skills)\n",
    "\n",
    "# Find intersection\n",
    "matched_skills = extracted_skills_set.intersection(required_skills_set)\n",
    "\n",
    "# Calculate match percentage\n",
    "match_percentage = len(matched_skills) / len(required_skills_set) * 100\n",
    "\n",
    "print(\"Matched Skills:\", matched_skills)\n",
    "print(\"Match Percentage:\", match_percentage)\n",
    "\n",
    "if match_percentage >= 80:  # Adjust threshold as needed\n",
    "    print(\"Skills match well!\")\n",
    "else:\n",
    "    print(\"Skills do not match sufficiently.\")\n"
   ]
  },
  {
   "cell_type": "code",
   "execution_count": null,
   "metadata": {},
   "outputs": [],
   "source": []
  }
 ],
 "metadata": {
  "kernelspec": {
   "display_name": "Python 3",
   "language": "python",
   "name": "python3"
  },
  "language_info": {
   "codemirror_mode": {
    "name": "ipython",
    "version": 3
   },
   "file_extension": ".py",
   "mimetype": "text/x-python",
   "name": "python",
   "nbconvert_exporter": "python",
   "pygments_lexer": "ipython3",
   "version": "3.12.3"
  }
 },
 "nbformat": 4,
 "nbformat_minor": 2
}
